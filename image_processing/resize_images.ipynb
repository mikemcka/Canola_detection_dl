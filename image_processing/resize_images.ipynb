{
 "cells": [
  {
   "cell_type": "code",
   "execution_count": 2,
   "id": "36a0c082",
   "metadata": {},
   "outputs": [],
   "source": [
    "# Load the libraries\n",
    "import numpy as np\n",
    "import matplotlib.pyplot as plt\n",
    "import cv2, os\n",
    "from glob import glob\n",
    "from PIL import Image\n",
    "from pathlib import Path"
   ]
  },
  {
   "cell_type": "markdown",
   "id": "360d303a",
   "metadata": {},
   "source": [
    "# Split the images and masks into smaller images"
   ]
  },
  {
   "cell_type": "code",
   "execution_count": 3,
   "id": "d5c0e622",
   "metadata": {},
   "outputs": [],
   "source": [
    "# Cut the plots into 500x500 image pieces\n",
    "\n",
    "def cut_pieces(img_path, dims=500):\n",
    "    img = np.load(img_path, allow_pickle=True)\n",
    "    dirname = os.path.dirname(img_path)+\"_PNG\"\n",
    "    basename = os.path.basename(img_path).replace(\"image.npy\", \"\")\n",
    "    if not os.path.exists(dirname):\n",
    "        os.mkdir(dirname)\n",
    "    shape = img.shape[:2]\n",
    "    \n",
    "    n_rows = int(shape[0]/dims)\n",
    "    # check if image left has more than 250 pix\n",
    "    rest_row = (shape[0]/dims) - n_rows\n",
    "    n_cols = int(shape[1]/dims)\n",
    "    rest_col = (shape[1]/dims) - n_cols\n",
    "    #add the condition to add padding\n",
    "    if ((n_rows == 0) or (rest_row > 0.5)):\n",
    "        n_rows += 1\n",
    "    if ((n_cols == 0) or (rest_col > 0.5)):\n",
    "        n_cols +=1\n",
    "    \n",
    "    #cut and save the image\n",
    "    count_im = 0\n",
    "    for row in range(n_rows):        \n",
    "        for column in range(n_cols):\n",
    "            chunk = img[row*dims: (row+1)*dims,\\\n",
    "                        column*dims:(column+1)*dims,\\\n",
    "                        :]\n",
    "            w, h , c = chunk.shape\n",
    "            # pad the array\n",
    "            chunk = np.pad(chunk,\n",
    "                           ((0, 500-w), (0, 500-h), (0,0)),\n",
    "                           mode='constant', constant_values=0)\n",
    "            chunk1 = Image.fromarray(chunk)\n",
    "            chunk1.save(f\"{dirname}/{basename}image_{count_im}.png\")\n",
    "            count_im +=1\n",
    "            \n",
    "    # cut and save the respective mask\n",
    "    count_m = 0\n",
    "    mask = np.load(img_path.replace(\"image.npy\", \"weed_soil_crop_mask.npy\"))\n",
    "    for row in range(n_rows):        \n",
    "        for column in range(n_cols):\n",
    "            chunk = mask[row*dims: (row+1)*dims,\\\n",
    "                        column*dims:(column+1)*dims]\n",
    "            w, h = chunk.shape\n",
    "            chunk = np.pad(chunk,\n",
    "                           ((0, 500-w), (0, 500-h)),\n",
    "                           mode='constant', constant_values=0)\n",
    "            chunk1 = Image.fromarray(chunk)\n",
    "            chunk1.save(f\"{dirname}/{basename}mask_{count_m}.png\")\n",
    "            count_m +=1"
   ]
  },
  {
   "cell_type": "markdown",
   "id": "cf068840",
   "metadata": {},
   "source": [
    "# Use this method as all my images are of a large resolution"
   ]
  },
  {
   "cell_type": "code",
   "execution_count": 3,
   "id": "8b48fac0",
   "metadata": {},
   "outputs": [],
   "source": [
    "img_path = Path(\"/group/pawsey0149/mmckay/singularity/raw_fullsize_images_masks/\")\n",
    "# Resize and cut\n",
    "def resize_im(img_path,dims=224):\n",
    "    img1 = np.load(img_path, allow_pickle=True)\n",
    "    dirname = os.path.dirname(img_path)+\"_PNG\"\n",
    "    basename = os.path.basename(img_path).replace(\"image.npy\", \"\")\n",
    "    if not os.path.exists(dirname):\n",
    "        os.mkdir(dirname)\n",
    "        \n",
    "        \n",
    "    # resize the image in 50%\n",
    "    scale_percent = 50\n",
    "    width = int(img1.shape[1] * scale_percent / 100)\n",
    "    height = int(img1.shape[0] * scale_percent / 100)\n",
    "    dim = (width, height)\n",
    "    img = cv2.resize(img1, dim, interpolation = cv2.INTER_AREA)\n",
    "    shape = img.shape[:2]\n",
    "    \n",
    "    n_rows = int(shape[0]/dims)\n",
    "    # check if image left has more than 250 pix\n",
    "    rest_row = (shape[0]/dims) - n_rows\n",
    "    n_cols = int(shape[1]/dims)\n",
    "    rest_col = (shape[1]/dims) - n_cols\n",
    "    #add the condition to add padding\n",
    "    if ((n_rows == 0) or (rest_row > 0.5)):\n",
    "        n_rows += 1\n",
    "    if ((n_cols == 0) or (rest_col > 0.5)):\n",
    "        n_cols +=1\n",
    "    \n",
    "    #cut and save the image\n",
    "    count_im = 0\n",
    "    for row in range(n_rows):        \n",
    "        for column in range(n_cols):\n",
    "            chunk = img[row*dims: (row+1)*dims,\\\n",
    "                        column*dims:(column+1)*dims,\\\n",
    "                        :]\n",
    "            w, h , c = chunk.shape\n",
    "            # pad the array\n",
    "            chunk = np.pad(chunk,\n",
    "                           ((0, 224-w), (0, 224-h), (0,0)),\n",
    "                           mode='constant', constant_values=0)\n",
    "            chunk1 = Image.fromarray(chunk)\n",
    "            chunk1.save(f\"{dirname}/{basename}image_{count_im}.png\")\n",
    "            count_im +=1\n",
    "            \n",
    "    # MASK\n",
    "    count_m = 0\n",
    "    mask1 = np.load(img_path.replace(\"image.npy\", \"soil_crop_mask.npy\"))\n",
    "    # resize the image in 50%\n",
    "    scale_percent = 50\n",
    "    width = int(mask1.shape[1] * scale_percent / 100)\n",
    "    height = int(mask1.shape[0] * scale_percent / 100)\n",
    "    dim = (width, height)\n",
    "    mask = cv2.resize(mask1, dim, interpolation = cv2.INTER_AREA)\n",
    "    \n",
    "    # cut and save the respective mask\n",
    "    for row in range(n_rows):        \n",
    "        for column in range(n_cols):\n",
    "            chunk = mask[row*dims: (row+1)*dims,\\\n",
    "                        column*dims:(column+1)*dims]\n",
    "            w, h = chunk.shape\n",
    "            chunk = np.pad(chunk,\n",
    "                           ((0, 224-w), (0, 224-h)),\n",
    "                           mode='constant', constant_values=0)\n",
    "            chunk1 = Image.fromarray(chunk)\n",
    "            chunk1.save(f\"{dirname}/{basename}mask_{count_m}.png\")\n",
    "            count_m +=1"
   ]
  },
  {
   "cell_type": "code",
   "execution_count": 4,
   "id": "420eab5a",
   "metadata": {},
   "outputs": [],
   "source": [
    "#resize images\n",
    "img_list = glob(\"/group/pawsey0149/mmckay/singularity/raw_fullsize_images_masks/*image.npy\")\n",
    "for m in img_list:\n",
    "    resize_im(m)\n",
    "    \n",
    "#only ran this\n",
    "#all masks appear as blank black images"
   ]
  },
  {
   "cell_type": "code",
   "execution_count": null,
   "id": "7d9988bc",
   "metadata": {},
   "outputs": [],
   "source": []
  }
 ],
 "metadata": {
  "kernelspec": {
   "display_name": "Python 3 (ipykernel)",
   "language": "python",
   "name": "python3"
  },
  "language_info": {
   "codemirror_mode": {
    "name": "ipython",
    "version": 3
   },
   "file_extension": ".py",
   "mimetype": "text/x-python",
   "name": "python",
   "nbconvert_exporter": "python",
   "pygments_lexer": "ipython3",
   "version": "3.7.11"
  },
  "varInspector": {
   "cols": {
    "lenName": 16,
    "lenType": 16,
    "lenVar": 40
   },
   "kernels_config": {
    "python": {
     "delete_cmd_postfix": "",
     "delete_cmd_prefix": "del ",
     "library": "var_list.py",
     "varRefreshCmd": "print(var_dic_list())"
    },
    "r": {
     "delete_cmd_postfix": ") ",
     "delete_cmd_prefix": "rm(",
     "library": "var_list.r",
     "varRefreshCmd": "cat(var_dic_list()) "
    }
   },
   "types_to_exclude": [
    "module",
    "function",
    "builtin_function_or_method",
    "instance",
    "_Feature"
   ],
   "window_display": false
  }
 },
 "nbformat": 4,
 "nbformat_minor": 5
}
