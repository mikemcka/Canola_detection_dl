{
 "cells": [
  {
   "cell_type": "markdown",
   "id": "5cf7ff5c",
   "metadata": {},
   "source": [
    "# Break up into holdout and vaildation sets"
   ]
  },
  {
   "cell_type": "code",
   "execution_count": 2,
   "id": "358c68ca",
   "metadata": {},
   "outputs": [],
   "source": [
    "import os\n",
    "import random\n",
    "import shutil\n",
    "import re\n",
    "import glob\n",
    "import numpy as np\n",
    "from sklearn.model_selection import KFold\n",
    "from pathlib import Path\n",
    "import numpy as np, pandas as pd, matplotlib.pyplot as plt\n",
    "import pickle "
   ]
  },
  {
   "cell_type": "code",
   "execution_count": 5,
   "id": "796e6855",
   "metadata": {},
   "outputs": [
    {
     "name": "stdout",
     "output_type": "stream",
     "text": [
      "Data split into holdout and training sets successfully.\n"
     ]
    }
   ],
   "source": [
    "# Path to the folder containing the PNG images and labels\n",
    "data_folder = \"/group/pawsey0149/mmckay/singularity/raw_fullsize_images_masks_PNG/\"\n",
    "\n",
    "# Path to the new directories for holdout and training sets\n",
    "holdout_set_folder = \"/group/pawsey0149/mmckay/singularity/holdout_set_224s\"\n",
    "training_set_folder = \"/group/pawsey0149/mmckay/singularity/training_set_224s\"\n",
    "\n",
    "# Create the directories if they don't exist\n",
    "os.makedirs(os.path.join(holdout_set_folder, \"images\"), exist_ok=True)\n",
    "os.makedirs(os.path.join(holdout_set_folder, \"labels\"), exist_ok=True)\n",
    "os.makedirs(os.path.join(training_set_folder, \"images\"), exist_ok=True)\n",
    "os.makedirs(os.path.join(training_set_folder, \"labels\"), exist_ok=True)\n",
    "\n",
    "# Get a list of all the image files in the data folder\n",
    "image_files = [f for f in os.listdir(data_folder) if re.match(r\".*_image_\\d+\\.png\", f)]\n",
    "\n",
    "# Shuffle the list of image files\n",
    "random.shuffle(image_files)\n",
    "\n",
    "# Calculate the index where we will split the data\n",
    "split_index = int(len(image_files) * 0.1)  # 10% for holdout set\n",
    "\n",
    "# Copy image files to the holdout set \"images\" directory\n",
    "for image_file in image_files[:split_index]:\n",
    "    src_image_path = os.path.join(data_folder, image_file)\n",
    "    dst_image_path = os.path.join(holdout_set_folder, \"images\", image_file)\n",
    "    shutil.copy(src_image_path, dst_image_path)\n",
    "\n",
    "# Copy image files to the training set \"images\" directory\n",
    "for image_file in image_files[split_index:]:\n",
    "    src_image_path = os.path.join(data_folder, image_file)\n",
    "    dst_image_path = os.path.join(training_set_folder, \"images\", image_file)\n",
    "    shutil.copy(src_image_path, dst_image_path)\n",
    "\n",
    "# Get a list of label files corresponding to the image files\n",
    "label_files = [re.sub(r\"_image_(\\d+)\\.png\", r\"_mask_\\1.png\", f) for f in image_files]\n",
    "\n",
    "# Copy label files to the holdout set \"labels\" directory\n",
    "for label_file in label_files[:split_index]:\n",
    "    src_label_path = os.path.join(data_folder, label_file)\n",
    "    dst_label_path = os.path.join(holdout_set_folder, \"labels\", label_file)\n",
    "    shutil.copy(src_label_path, dst_label_path)\n",
    "\n",
    "# Copy label files to the training set \"labels\" directory\n",
    "for label_file in label_files[split_index:]:\n",
    "    src_label_path = os.path.join(data_folder, label_file)\n",
    "    dst_label_path = os.path.join(training_set_folder, \"labels\", label_file)\n",
    "    shutil.copy(src_label_path, dst_label_path)\n",
    "\n",
    "print(\"Data split into holdout and training sets successfully.\")"
   ]
  },
  {
   "cell_type": "markdown",
   "id": "9a7a382c",
   "metadata": {},
   "source": [
    "# Kfold function"
   ]
  },
  {
   "cell_type": "code",
   "execution_count": 6,
   "id": "ca218bfa",
   "metadata": {},
   "outputs": [],
   "source": [
    "# functions for kfold and datablocks\n",
    "# def label_func(fn): \n",
    "#     return path/\"labels\"/f\"{fn.stem.replace('image', 'mask')}{fn.suffix}\"\n",
    "\n",
    "def fname_folds(fold=0):\n",
    "    def __inner(path, fold=0):\n",
    "        fnames = get_image_files(path)\n",
    "        from sklearn.model_selection import KFold\n",
    "        kfold = KFold(n_splits=5, shuffle=True, random_state=33)\n",
    "        kfold_ds = {}\n",
    "        i=0\n",
    "        for ti, vi in kfold.split(fnames):\n",
    "            kfold_ds[i] = fnames[ti] + fnames[vi]\n",
    "            i+=1\n",
    "        return kfold_ds[fold]\n",
    "    return __inner\n",
    "\n",
    "def KfoldSplitter(valid_pct=0.2, seed=None): \n",
    "    def _inner(o):\n",
    "        if seed is not None: torch.manual_seed(seed)\n",
    "        rand_idx = L(list(torch.randperm(len(o)).numpy()))\n",
    "        cut = int(valid_pct * len(o))\n",
    "        return rand_idx[cut:], rand_idx[:cut]\n",
    "    return _inner"
   ]
  },
  {
   "cell_type": "code",
   "execution_count": 7,
   "id": "2d3519ac",
   "metadata": {},
   "outputs": [],
   "source": [
    "fnames = glob.glob('/group/pawsey0149/mmckay/singularity/training_set_224s/images/*')\n",
    "fnames = np.array(fnames)\n",
    "\n",
    "kf = KFold(n_splits=5, shuffle=True, random_state=33)\n",
    "kfold_ds = {}\n",
    "i = 0\n",
    "\n",
    "for ti, vi in kf.split(fnames):\n",
    "    kfold_ds[i] = np.concatenate((fnames[ti], fnames[vi]))\n",
    "    i += 1\n",
    "kfold_ds\n",
    "\n",
    "# Function to save the dictionary into 'dictionary.pkl'\n",
    "def save_dict_as_pickle(filename, data):\n",
    "    with open(filename, 'wb') as file:\n",
    "        pickle.dump(data, file)\n",
    "\n",
    "# Save the dictionary into 'folds_dictionary.pkl'\n",
    "save_dict_as_pickle('/group/pawsey0149/mmckay/singularity/folds_dictionary_224s.pkl', kfold_ds)\n",
    "\n",
    "with open('/group/pawsey0149/mmckay/singularity/folds_dictionary_224s.pkl', 'wb') as f:\n",
    "    pickle.dump(kfold_ds, f)\n",
    "        \n"
   ]
  },
  {
   "cell_type": "code",
   "execution_count": 8,
   "id": "e48e587d",
   "metadata": {},
   "outputs": [
    {
     "data": {
      "text/plain": [
       "array(['/group/pawsey0149/mmckay/singularity/training_set_224s/images/YC_IMG_153_image_66.png',\n",
       "       '/group/pawsey0149/mmckay/singularity/training_set_224s/images/B7t1_image_48.png',\n",
       "       '/group/pawsey0149/mmckay/singularity/training_set_224s/images/YC_IMG_115_image_40.png',\n",
       "       ...,\n",
       "       '/group/pawsey0149/mmckay/singularity/training_set_224s/images/YC_IMG_126_image_94.png',\n",
       "       '/group/pawsey0149/mmckay/singularity/training_set_224s/images/YC_IMG_132_image_18.png',\n",
       "       '/group/pawsey0149/mmckay/singularity/training_set_224s/images/F5t1_image_22.png'],\n",
       "      dtype='<U85')"
      ]
     },
     "execution_count": 8,
     "metadata": {},
     "output_type": "execute_result"
    }
   ],
   "source": [
    "import pickle \n",
    "with open('/group/pawsey0149/mmckay/singularity/folds_dictionary_224s.pkl', 'rb') as f:\n",
    "    loaded_dict= pickle.load(f)\n",
    "    \n",
    "loaded_dict[0]"
   ]
  },
  {
   "cell_type": "code",
   "execution_count": 9,
   "id": "598f8485",
   "metadata": {},
   "outputs": [
    {
     "data": {
      "text/plain": [
       "array(['/group/pawsey0149/mmckay/singularity/training_set_224s/images/YC_IMG_158_image_30.png',\n",
       "       '/group/pawsey0149/mmckay/singularity/training_set_224s/images/YC_IMG_159_image_63.png',\n",
       "       '/group/pawsey0149/mmckay/singularity/training_set_224s/images/E5t2_image_6.png',\n",
       "       ...,\n",
       "       '/group/pawsey0149/mmckay/singularity/training_set_224s/images/YC_IMG_103_image_67.png',\n",
       "       '/group/pawsey0149/mmckay/singularity/training_set_224s/images/B6t2_image_44.png',\n",
       "       '/group/pawsey0149/mmckay/singularity/training_set_224s/images/D12t1_image_43.png'],\n",
       "      dtype='<U85')"
      ]
     },
     "execution_count": 9,
     "metadata": {},
     "output_type": "execute_result"
    }
   ],
   "source": [
    "loaded_dict[4]"
   ]
  },
  {
   "cell_type": "markdown",
   "id": "5c2703ee",
   "metadata": {},
   "source": [
    "# need to modify the 3 python files, at top is instructions to run\n",
    "#need to create an array and save it as a .pkl file using pickle\n",
    "#make sure to change batch image size of vgg model to 500pixels\n",
    "#check callbacks to make sure its not stopping prematurely\n",
    "#run unet_mmckay.slm and look at to see instructions for each one of the trials files"
   ]
  }
 ],
 "metadata": {
  "kernelspec": {
   "display_name": "Python 3 (ipykernel)",
   "language": "python",
   "name": "python3"
  },
  "language_info": {
   "codemirror_mode": {
    "name": "ipython",
    "version": 3
   },
   "file_extension": ".py",
   "mimetype": "text/x-python",
   "name": "python",
   "nbconvert_exporter": "python",
   "pygments_lexer": "ipython3",
   "version": "3.7.11"
  }
 },
 "nbformat": 4,
 "nbformat_minor": 5
}
